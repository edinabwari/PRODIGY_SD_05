{
  "nbformat": 4,
  "nbformat_minor": 0,
  "metadata": {
    "colab": {
      "provenance": []
    },
    "kernelspec": {
      "name": "python3",
      "display_name": "Python 3"
    },
    "language_info": {
      "name": "python"
    }
  },
  "cells": [
    {
      "cell_type": "code",
      "execution_count": 17,
      "metadata": {
        "id": "RsppmO6X9Gxe"
      },
      "outputs": [],
      "source": [
        "from bs4 import BeautifulSoup\n",
        "import requests\n",
        "import pandas as pd\n",
        "import numpy as np"
      ]
    },
    {
      "cell_type": "code",
      "source": [
        "# Function to extract Product Title\n",
        "def get_title(new_soup):\n",
        "    try:\n",
        "        product_title = new_soup.find('div', class_='b-advert-title-inner qa-advert-title b-advert-title-inner--h1').text.strip()\n",
        "        return product_title\n",
        "    except AttributeError:\n",
        "        return \"\"\n",
        "\n",
        "# Function to extract Product Price\n",
        "def get_price(new_soup):\n",
        "    try:\n",
        "        price_span = new_soup.find('span', itemprop='priceCurrency', content='KES')\n",
        "        price = price_span.next_sibling.strip()\n",
        "        return price\n",
        "    except AttributeError:\n",
        "       return \"\"\n",
        "\n",
        "if __name__ == '__main__':\n",
        "\n",
        "  #URL of the soap category in jiji website.\n",
        "  URL = 'https://jiji.co.ke/bath-body?filter_attr_584_type=Soaps'\n",
        "\n",
        "  #setting the user agent\n",
        "  HEADERS = ({'User-Agent' : 'Mozilla/5.0 (Windows NT 10.0; Win64; x64) AppleWebKit/537.36 (KHTML, like Gecko) Chrome/120.0.0.0 Safari/537.36', 'Accept-Language' : 'en-US, en;q=0.5'})\n",
        "\n",
        "  d = {\"title\": [], \"price\": []}\n",
        "\n",
        "\n",
        "    # Loop for extracting product details from each link\n",
        "  for link in links_list:\n",
        "        new_webpage = requests.get(\"https://jiji.co.ke\" + link, headers=HEADERS)\n",
        "\n",
        "        new_soup = BeautifulSoup(new_webpage.content, \"html.parser\")\n",
        "\n",
        "        # Function calls to display all necessary product information\n",
        "        d['title'].append(get_title(new_soup))\n",
        "        d['price'].append(get_price(new_soup))\n",
        "\n",
        "#creating a Pandas DataFrame and saving the DataFrame to a CSV file\n",
        "\n",
        "  jiji_df = pd.DataFrame.from_dict(d)\n",
        "  jiji_df['title'].replace('', np.nan, inplace=True)\n",
        "  jiji_df = jiji_df.dropna(subset=['title'])\n",
        "  jiji_df.to_csv(\"amazon_data.csv\", header=True, index=False)\n",
        "\n",
        "  print(jiji_df)  #prints the DataFrame to the console\n"
      ],
      "metadata": {
        "colab": {
          "base_uri": "https://localhost:8080/"
        },
        "id": "PMcfj4wHBPeS",
        "outputId": "1b6cae69-bdfd-4df9-e4b0-6499e6a135ae"
      },
      "execution_count": 16,
      "outputs": [
        {
          "output_type": "stream",
          "name": "stdout",
          "text": [
            "                                                title              price\n",
            "0   Dr. Rashel Collagen, Charcoal Skin Cleansing B...    865, Negotiable\n",
            "1                                 Tumeric Facial Soap                999\n",
            "2   Black Soap For Acne Treatment And Oil Control ...  1,099, Negotiable\n",
            "3                                 Dr Davey Black Soap              1,000\n",
            "4     Tumeric Ginger With Honey Soap ~Herbal Cleanser    999, Negotiable\n",
            "5           Collagen Snail Deep Cleansing Beauty Soap    680, Negotiable\n",
            "6                                    Kojie - San Soap    450, Negotiable\n",
            "7                                 Liquid Castile Soap                250\n",
            "8   Dudu Osun*Blacksoap*Healing Soap*Spots/Acne /B...                999\n",
            "9   TUMERIC RICE MILK WITH HONEY Soap-for Acne, Pi...    899, Negotiable\n",
            "10               Veet Gold Papaya Supe Whitening Soap    599, Negotiable\n",
            "11         Rice Soap*Skin Care*Glow Up*Beautiful Skin                850\n",
            "12                       Egyptian Gold Whitening Soap                499\n",
            "13                            Soap Base Melt and Pour                250\n",
            "14                        Rice Milk and Collagen Soap                299\n",
            "15                     Kojic San Skin Lightening Soap                399\n",
            "16                   Tamarind Tumeric With Honey Soap  1,299, Negotiable\n",
            "17                       Egyptian Gold Whitening Soap                499\n",
            "18                          Kojic San Lightening Soap                399\n"
          ]
        }
      ]
    },
    {
      "cell_type": "code",
      "source": [],
      "metadata": {
        "id": "TnIi5kdWBxeu"
      },
      "execution_count": null,
      "outputs": []
    }
  ]
}